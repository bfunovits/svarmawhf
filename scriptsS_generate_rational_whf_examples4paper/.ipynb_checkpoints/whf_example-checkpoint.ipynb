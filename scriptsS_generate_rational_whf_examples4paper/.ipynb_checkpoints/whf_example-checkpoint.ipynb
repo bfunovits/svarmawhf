{
 "cells": [
  {
   "cell_type": "code",
   "execution_count": 61,
   "id": "2270264a-b327-40d2-8f9f-0baf32001686",
   "metadata": {},
   "outputs": [],
   "source": [
    "from sympy import *"
   ]
  },
  {
   "cell_type": "code",
   "execution_count": 62,
   "id": "51ab6a42-d74d-40c2-aa38-dd8b5107e382",
   "metadata": {},
   "outputs": [],
   "source": [
    "from fractions import Fraction as fr"
   ]
  },
  {
   "cell_type": "code",
   "execution_count": 63,
   "id": "e0d82985-06fa-4ada-b8e0-bf058ef7c266",
   "metadata": {},
   "outputs": [],
   "source": [
    "f0 = Matrix([[fr(13,8), fr(17,6)],[fr(5,4), fr(5,3)]])\n",
    "f1 = Matrix([[fr(125,96), fr(457,360)],[fr(5,48), fr(5,36)]])\n",
    "f2 = Matrix([[fr(19,48), fr(1,3)],[0,0]])\n"
   ]
  },
  {
   "cell_type": "code",
   "execution_count": 64,
   "id": "db3c6749-6b4a-4559-927e-c79f6e33c2a7",
   "metadata": {},
   "outputs": [
    {
     "data": {
      "text/latex": [
       "$\\displaystyle \\left[\\begin{matrix}\\frac{13}{8} & \\frac{17}{6}\\\\\\frac{5}{4} & \\frac{5}{3}\\end{matrix}\\right]$"
      ],
      "text/plain": [
       "Matrix([\n",
       "[13/8, 17/6],\n",
       "[ 5/4,  5/3]])"
      ]
     },
     "execution_count": 64,
     "metadata": {},
     "output_type": "execute_result"
    }
   ],
   "source": [
    "f0"
   ]
  },
  {
   "cell_type": "code",
   "execution_count": 65,
   "id": "4b12fb01-d1ae-4c2b-b2e1-6b122f6c9b53",
   "metadata": {},
   "outputs": [
    {
     "data": {
      "text/latex": [
       "$\\displaystyle \\left[\\begin{matrix}\\frac{125}{96} & \\frac{457}{360}\\\\\\frac{5}{48} & \\frac{5}{36}\\end{matrix}\\right]$"
      ],
      "text/plain": [
       "Matrix([\n",
       "[125/96, 457/360],\n",
       "[  5/48,    5/36]])"
      ]
     },
     "execution_count": 65,
     "metadata": {},
     "output_type": "execute_result"
    }
   ],
   "source": [
    "f1"
   ]
  },
  {
   "cell_type": "code",
   "execution_count": 66,
   "id": "4128f0c4-9ffd-4a75-8bdb-dbd72eab2099",
   "metadata": {},
   "outputs": [
    {
     "data": {
      "text/latex": [
       "$\\displaystyle \\left[\\begin{matrix}\\frac{19}{48} & \\frac{1}{3}\\\\0 & 0\\end{matrix}\\right]$"
      ],
      "text/plain": [
       "Matrix([\n",
       "[19/48, 1/3],\n",
       "[    0,   0]])"
      ]
     },
     "execution_count": 66,
     "metadata": {},
     "output_type": "execute_result"
    }
   ],
   "source": [
    "f2"
   ]
  },
  {
   "cell_type": "code",
   "execution_count": 67,
   "id": "bdf77763-f729-409b-ac97-05fb049d9bcb",
   "metadata": {},
   "outputs": [],
   "source": [
    "f0inv = f0.inv()"
   ]
  },
  {
   "cell_type": "code",
   "execution_count": 68,
   "id": "787fc107-b7e9-4803-ad93-4f8804b69600",
   "metadata": {},
   "outputs": [
    {
     "data": {
      "text/latex": [
       "$\\displaystyle \\left[\\begin{matrix}-2 & \\frac{17}{5}\\\\\\frac{3}{2} & - \\frac{39}{20}\\end{matrix}\\right]$"
      ],
      "text/plain": [
       "Matrix([\n",
       "[ -2,   17/5],\n",
       "[3/2, -39/20]])"
      ]
     },
     "execution_count": 68,
     "metadata": {},
     "output_type": "execute_result"
    }
   ],
   "source": [
    "f0inv"
   ]
  },
  {
   "cell_type": "code",
   "execution_count": 69,
   "id": "71a12818-5044-4642-aefd-f4eb0b5cdff5",
   "metadata": {},
   "outputs": [],
   "source": [
    "f1_ = f1*f0inv"
   ]
  },
  {
   "cell_type": "code",
   "execution_count": 70,
   "id": "4ff1c9a3-001a-4ff0-ab42-13b3eab3ca36",
   "metadata": {},
   "outputs": [
    {
     "data": {
      "text/latex": [
       "$\\displaystyle \\left[\\begin{matrix}- \\frac{7}{10} & \\frac{1171}{600}\\\\0 & \\frac{1}{12}\\end{matrix}\\right]$"
      ],
      "text/plain": [
       "Matrix([\n",
       "[-7/10, 1171/600],\n",
       "[    0,     1/12]])"
      ]
     },
     "execution_count": 70,
     "metadata": {},
     "output_type": "execute_result"
    }
   ],
   "source": [
    "f1_"
   ]
  },
  {
   "cell_type": "code",
   "execution_count": 71,
   "id": "4ceb5224-e500-4b8e-8893-92f28c929935",
   "metadata": {},
   "outputs": [],
   "source": [
    "f2_ = f2 * f0inv"
   ]
  },
  {
   "cell_type": "code",
   "execution_count": 72,
   "id": "d5f5231a-15cf-448c-805c-f3d54af749cc",
   "metadata": {},
   "outputs": [
    {
     "data": {
      "text/latex": [
       "$\\displaystyle \\left[\\begin{matrix}\\frac{19}{48} & \\frac{1}{3}\\\\0 & 0\\end{matrix}\\right]$"
      ],
      "text/plain": [
       "Matrix([\n",
       "[19/48, 1/3],\n",
       "[    0,   0]])"
      ]
     },
     "execution_count": 72,
     "metadata": {},
     "output_type": "execute_result"
    }
   ],
   "source": [
    "f2"
   ]
  },
  {
   "cell_type": "code",
   "execution_count": 73,
   "id": "7e8f7321-33f1-4679-809c-82537ec34a86",
   "metadata": {},
   "outputs": [
    {
     "data": {
      "text/latex": [
       "$\\displaystyle \\left[\\begin{matrix}1 & 0\\\\0 & 1\\end{matrix}\\right]$"
      ],
      "text/plain": [
       "Matrix([\n",
       "[1, 0],\n",
       "[0, 1]])"
      ]
     },
     "execution_count": 73,
     "metadata": {},
     "output_type": "execute_result"
    }
   ],
   "source": [
    "f0*f0inv"
   ]
  },
  {
   "cell_type": "code",
   "execution_count": 74,
   "id": "f7f0e95e-5b0f-4780-bf58-28b245b142e0",
   "metadata": {},
   "outputs": [],
   "source": [
    "p0 = Matrix([[1, 0],[fr(1,3), 1]])"
   ]
  },
  {
   "cell_type": "code",
   "execution_count": 75,
   "id": "300adcbe-0e2f-4505-83c0-317fe6ee6915",
   "metadata": {},
   "outputs": [
    {
     "data": {
      "text/latex": [
       "$\\displaystyle \\left[\\begin{matrix}1 & 0\\\\\\frac{1}{3} & 1\\end{matrix}\\right]$"
      ],
      "text/plain": [
       "Matrix([\n",
       "[  1, 0],\n",
       "[1/3, 1]])"
      ]
     },
     "execution_count": 75,
     "metadata": {},
     "output_type": "execute_result"
    }
   ],
   "source": [
    "p0"
   ]
  },
  {
   "cell_type": "code",
   "execution_count": 76,
   "id": "7fa6257c-c9fb-411b-b663-45ed2bc613f9",
   "metadata": {},
   "outputs": [],
   "source": [
    "fend = Matrix([[fr(19,48), fr(1,3)],[fr(5,48), fr(5,36)]])"
   ]
  },
  {
   "cell_type": "code",
   "execution_count": 77,
   "id": "a063392b-c1d4-4c46-a3f7-067b6f8ddff8",
   "metadata": {},
   "outputs": [
    {
     "data": {
      "text/latex": [
       "$\\displaystyle \\left[\\begin{matrix}\\frac{19}{48} & \\frac{1}{3}\\\\\\frac{5}{48} & \\frac{5}{36}\\end{matrix}\\right]$"
      ],
      "text/plain": [
       "Matrix([\n",
       "[19/48,  1/3],\n",
       "[ 5/48, 5/36]])"
      ]
     },
     "execution_count": 77,
     "metadata": {},
     "output_type": "execute_result"
    }
   ],
   "source": [
    "fend"
   ]
  },
  {
   "cell_type": "code",
   "execution_count": 78,
   "id": "9be66058-dec5-48d2-825d-d2c15218ef42",
   "metadata": {},
   "outputs": [],
   "source": [
    "b0 = p0 * fend"
   ]
  },
  {
   "cell_type": "code",
   "execution_count": 79,
   "id": "5c9ceabc-2a0d-4364-85b6-a794c3123438",
   "metadata": {},
   "outputs": [
    {
     "data": {
      "text/latex": [
       "$\\displaystyle \\left[\\begin{matrix}\\frac{19}{48} & \\frac{1}{3}\\\\\\frac{17}{72} & \\frac{1}{4}\\end{matrix}\\right]$"
      ],
      "text/plain": [
       "Matrix([\n",
       "[19/48, 1/3],\n",
       "[17/72, 1/4]])"
      ]
     },
     "execution_count": 79,
     "metadata": {},
     "output_type": "execute_result"
    }
   ],
   "source": [
    "b0"
   ]
  },
  {
   "cell_type": "code",
   "execution_count": 80,
   "id": "1287955a-b16b-48b5-a059-37529509c86a",
   "metadata": {},
   "outputs": [],
   "source": [
    "fend_inv = fend.inv()\n",
    "p0inv = p0.inv()"
   ]
  },
  {
   "cell_type": "code",
   "execution_count": 81,
   "id": "0f5352af-d6b0-4895-9db0-6e1215d0f65e",
   "metadata": {},
   "outputs": [],
   "source": [
    "T = fend_inv * p0inv"
   ]
  },
  {
   "cell_type": "code",
   "execution_count": 82,
   "id": "7ae4b9a1-2f00-49c2-8980-90adb3da1aab",
   "metadata": {},
   "outputs": [
    {
     "data": {
      "text/latex": [
       "$\\displaystyle \\left[\\begin{matrix}\\frac{432}{35} & - \\frac{576}{35}\\\\- \\frac{408}{35} & \\frac{684}{35}\\end{matrix}\\right]$"
      ],
      "text/plain": [
       "Matrix([\n",
       "[ 432/35, -576/35],\n",
       "[-408/35,  684/35]])"
      ]
     },
     "execution_count": 82,
     "metadata": {},
     "output_type": "execute_result"
    }
   ],
   "source": [
    "T"
   ]
  },
  {
   "cell_type": "code",
   "execution_count": 83,
   "id": "d7ba58b9-a2c5-4ac4-8629-fbed27ea5b30",
   "metadata": {},
   "outputs": [],
   "source": [
    "f0_2 = f0 * T\n",
    "f1_2 = f1 * T\n",
    "f2_2 = f2 * T"
   ]
  },
  {
   "cell_type": "code",
   "execution_count": 84,
   "id": "59740887-8121-4b5c-acf5-dd2db554678e",
   "metadata": {},
   "outputs": [
    {
     "data": {
      "text/latex": [
       "$\\displaystyle \\left[\\begin{matrix}- \\frac{454}{35} & \\frac{1002}{35}\\\\-4 & 12\\end{matrix}\\right]$"
      ],
      "text/plain": [
       "Matrix([\n",
       "[-454/35, 1002/35],\n",
       "[     -4,      12]])"
      ]
     },
     "execution_count": 84,
     "metadata": {},
     "output_type": "execute_result"
    }
   ],
   "source": [
    "f0_2"
   ]
  },
  {
   "cell_type": "code",
   "execution_count": 85,
   "id": "d8dd4f61-38a6-485e-9737-6904f768feb2",
   "metadata": {},
   "outputs": [
    {
     "data": {
      "text/latex": [
       "$\\displaystyle \\left[\\begin{matrix}\\frac{191}{150} & \\frac{169}{50}\\\\- \\frac{1}{3} & 1\\end{matrix}\\right]$"
      ],
      "text/plain": [
       "Matrix([\n",
       "[191/150, 169/50],\n",
       "[   -1/3,      1]])"
      ]
     },
     "execution_count": 85,
     "metadata": {},
     "output_type": "execute_result"
    }
   ],
   "source": [
    "f1_2"
   ]
  },
  {
   "cell_type": "code",
   "execution_count": 86,
   "id": "a7e8ef5a-7892-418e-81c9-456146f357ca",
   "metadata": {},
   "outputs": [
    {
     "data": {
      "text/latex": [
       "$\\displaystyle \\left[\\begin{matrix}1 & 0\\\\0 & 0\\end{matrix}\\right]$"
      ],
      "text/plain": [
       "Matrix([\n",
       "[1, 0],\n",
       "[0, 0]])"
      ]
     },
     "execution_count": 86,
     "metadata": {},
     "output_type": "execute_result"
    }
   ],
   "source": [
    "f2_2"
   ]
  },
  {
   "cell_type": "code",
   "execution_count": 87,
   "id": "2a410b0a-5b13-47f6-9f16-7bb341141a54",
   "metadata": {},
   "outputs": [],
   "source": [
    "fend_2 = f2_2.row(0).col_join(f1_2.row(1))"
   ]
  },
  {
   "cell_type": "code",
   "execution_count": 88,
   "id": "eb4bf7f0-e954-4c7d-915c-c24bccfb4b67",
   "metadata": {},
   "outputs": [
    {
     "data": {
      "text/latex": [
       "$\\displaystyle \\left[\\begin{matrix}1 & 0\\\\- \\frac{1}{3} & 1\\end{matrix}\\right]$"
      ],
      "text/plain": [
       "Matrix([\n",
       "[   1, 0],\n",
       "[-1/3, 1]])"
      ]
     },
     "execution_count": 88,
     "metadata": {},
     "output_type": "execute_result"
    }
   ],
   "source": [
    "fend_2"
   ]
  },
  {
   "cell_type": "code",
   "execution_count": 89,
   "id": "49805f90-e5ff-4b81-b9e9-1a83d0de2cf0",
   "metadata": {},
   "outputs": [
    {
     "data": {
      "text/latex": [
       "$\\displaystyle \\left[\\begin{matrix}1 & 0\\\\0 & 1\\end{matrix}\\right]$"
      ],
      "text/plain": [
       "Matrix([\n",
       "[1, 0],\n",
       "[0, 1]])"
      ]
     },
     "execution_count": 89,
     "metadata": {},
     "output_type": "execute_result"
    }
   ],
   "source": [
    "p0 * fend_2"
   ]
  },
  {
   "cell_type": "code",
   "execution_count": 90,
   "id": "34742871-2aa5-4ed8-bac1-0ffc260f34cb",
   "metadata": {},
   "outputs": [
    {
     "data": {
      "text/latex": [
       "$\\displaystyle \\left[\\begin{matrix}1 & 0\\\\- \\frac{1}{3} & 1\\end{matrix}\\right]$"
      ],
      "text/plain": [
       "Matrix([\n",
       "[   1, 0],\n",
       "[-1/3, 1]])"
      ]
     },
     "execution_count": 90,
     "metadata": {},
     "output_type": "execute_result"
    }
   ],
   "source": [
    "fend * T"
   ]
  },
  {
   "cell_type": "code",
   "execution_count": 91,
   "id": "fad7129b-f55b-416e-864a-e85d37f76fb0",
   "metadata": {},
   "outputs": [
    {
     "data": {
      "text/latex": [
       "$\\displaystyle \\left[\\begin{matrix}1 & 0\\\\0 & 0\\end{matrix}\\right]$"
      ],
      "text/plain": [
       "Matrix([\n",
       "[1, 0],\n",
       "[0, 0]])"
      ]
     },
     "execution_count": 91,
     "metadata": {},
     "output_type": "execute_result"
    }
   ],
   "source": [
    "f2_2"
   ]
  },
  {
   "cell_type": "code",
   "execution_count": 92,
   "id": "9ec76eff-bd05-433e-993c-42c63e6d84b0",
   "metadata": {},
   "outputs": [
    {
     "data": {
      "text/latex": [
       "$\\displaystyle \\left[\\begin{matrix}\\frac{191}{150} & \\frac{169}{50}\\\\- \\frac{1}{3} & 1\\end{matrix}\\right]$"
      ],
      "text/plain": [
       "Matrix([\n",
       "[191/150, 169/50],\n",
       "[   -1/3,      1]])"
      ]
     },
     "execution_count": 92,
     "metadata": {},
     "output_type": "execute_result"
    }
   ],
   "source": [
    "f1_2"
   ]
  },
  {
   "cell_type": "code",
   "execution_count": null,
   "id": "23fd7f1f-749e-4cbf-97fe-7136969bd6c0",
   "metadata": {},
   "outputs": [],
   "source": [
    "# Calculating b(z) from WHF in Example 2"
   ]
  }
 ],
 "metadata": {
  "kernelspec": {
   "display_name": "Python 3",
   "language": "python",
   "name": "python3"
  },
  "language_info": {
   "codemirror_mode": {
    "name": "ipython",
    "version": 3
   },
   "file_extension": ".py",
   "mimetype": "text/x-python",
   "name": "python",
   "nbconvert_exporter": "python",
   "pygments_lexer": "ipython3",
   "version": "3.8.8"
  }
 },
 "nbformat": 4,
 "nbformat_minor": 5
}
